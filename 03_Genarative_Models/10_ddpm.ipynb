{
 "cells": [
  {
   "cell_type": "markdown",
   "metadata": {},
   "source": [
    "## Denoising Diffusion Probabilistic Models (DDPM) サンプルコード\n",
    "このコードは授業用に用意したDDPMの簡易実装版です。オリジナルの論文の実装とは異なります。<br>\n",
    "必要な部分を追記することで、[Fashion-MNIST](https://github.com/zalandoresearch/fashion-mnist)と呼ばれる衣服の白黒画像データセットを対象に、学習および生成ができます。<br>\n",
    "(コードを少し書き換えることで他の[データセット](https://pytorch.org/vision/stable/datasets.html)でも学習可能です。）<br>\n",
    "\n",
    "CPUでも実行自体は可能ですが、実用的な時間での計算は恐らく困難ですので、GPUを使うことを推奨します。<br>\n",
    "Googleのアカウントを作れば、誰でも無料で[Colaboratory](https://colab.research.google.com/?hl=ja)でGPUを使うことができます。<br>\n",
    "Colaboratoryにこのノートブックをアップロードして、GPUのランタイムに接続することで実行できます。基本的な使い方はJupyter Notebookと同じです。<br>\n",
    "\n",
    "コードは7つのStepで構成されています：\n",
    "\n",
    "0. 準備：ライブラリのインポートやパラメータの定義など<br>\n",
    "1. データセット読み込み\n",
    "2. DDPMの定義：前半はSelf-AttentionなどUNetモデルを構成するためのモジュールが定義されています。この授業では必ずしも理解の必要はありません。\n",
    "3. 損失関数の定義\n",
    "4. DDPMの学習\n",
    "5. ランダムノイズからの画像生成\n",
    "6. FIDによる定量評価\n",
    "\n",
    "### 課題\n",
    "1. Step3について3～5行目のコメントを参考に損失関数を完成させて実行結果を確認しなさい。（仮の値を変数に代入しているので書き直すこと。）<br>\n",
    "2. 拡散過程の総ステップ数が定量評価指標に与える影響を実験・考察しなさい。\n",
    "3. ある実画像をx0としたとき、拡散過程でノイズ画像 xt (t<総ステップ数)を生成し、逆拡散過程で xt をデノイズすると、VAEのように元の画像は復元できるだろうか？ t の大小がデノイズ結果に与える影響を実験・考察しなさい。\n",
    "\n",
    "レポートのファイル名やフォーマットは自由。ただし学籍番号、氏名、プログラムのソースコード、実行結果を含め、各課題の回答がわかるように記載し、一つのPDFファイルにして提出すること。"
   ]
  },
  {
   "cell_type": "markdown",
   "metadata": {},
   "source": [
    "###    Step 0. 準備"
   ]
  },
  {
   "cell_type": "code",
   "execution_count": 1,
   "metadata": {},
   "outputs": [
    {
     "name": "stdout",
     "output_type": "stream",
     "text": [
      "Requirement already satisfied: torch in /home/miya/.local/lib/python3.10/site-packages (2.3.1+cu121)\n",
      "Requirement already satisfied: torchvision in /home/miya/.local/lib/python3.10/site-packages (0.18.1+cu121)\n",
      "Requirement already satisfied: filelock in /home/miya/.local/lib/python3.10/site-packages (from torch) (3.13.1)\n",
      "Requirement already satisfied: typing-extensions>=4.8.0 in /home/miya/.local/lib/python3.10/site-packages (from torch) (4.9.0)\n",
      "Requirement already satisfied: sympy in /home/miya/.local/lib/python3.10/site-packages (from torch) (1.12)\n",
      "Requirement already satisfied: networkx in /home/miya/.local/lib/python3.10/site-packages (from torch) (3.2.1)\n",
      "Requirement already satisfied: jinja2 in /home/miya/.local/lib/python3.10/site-packages (from torch) (3.1.3)\n",
      "Requirement already satisfied: fsspec in /home/miya/.local/lib/python3.10/site-packages (from torch) (2024.2.0)\n",
      "Requirement already satisfied: nvidia-cuda-nvrtc-cu12==12.1.105 in /home/miya/.local/lib/python3.10/site-packages (from torch) (12.1.105)\n",
      "Requirement already satisfied: nvidia-cuda-runtime-cu12==12.1.105 in /home/miya/.local/lib/python3.10/site-packages (from torch) (12.1.105)\n",
      "Requirement already satisfied: nvidia-cuda-cupti-cu12==12.1.105 in /home/miya/.local/lib/python3.10/site-packages (from torch) (12.1.105)\n",
      "Requirement already satisfied: nvidia-cudnn-cu12==8.9.2.26 in /home/miya/.local/lib/python3.10/site-packages (from torch) (8.9.2.26)\n",
      "Requirement already satisfied: nvidia-cublas-cu12==12.1.3.1 in /home/miya/.local/lib/python3.10/site-packages (from torch) (12.1.3.1)\n",
      "Requirement already satisfied: nvidia-cufft-cu12==11.0.2.54 in /home/miya/.local/lib/python3.10/site-packages (from torch) (11.0.2.54)\n",
      "Requirement already satisfied: nvidia-curand-cu12==10.3.2.106 in /home/miya/.local/lib/python3.10/site-packages (from torch) (10.3.2.106)\n",
      "Requirement already satisfied: nvidia-cusolver-cu12==11.4.5.107 in /home/miya/.local/lib/python3.10/site-packages (from torch) (11.4.5.107)\n",
      "Requirement already satisfied: nvidia-cusparse-cu12==12.1.0.106 in /home/miya/.local/lib/python3.10/site-packages (from torch) (12.1.0.106)\n",
      "Requirement already satisfied: nvidia-nccl-cu12==2.20.5 in /home/miya/.local/lib/python3.10/site-packages (from torch) (2.20.5)\n",
      "Requirement already satisfied: nvidia-nvtx-cu12==12.1.105 in /home/miya/.local/lib/python3.10/site-packages (from torch) (12.1.105)\n",
      "Requirement already satisfied: triton==2.3.1 in /home/miya/.local/lib/python3.10/site-packages (from torch) (2.3.1)\n",
      "Requirement already satisfied: nvidia-nvjitlink-cu12 in /home/miya/.local/lib/python3.10/site-packages (from nvidia-cusolver-cu12==11.4.5.107->torch) (12.1.105)\n",
      "Requirement already satisfied: numpy in /home/miya/.local/lib/python3.10/site-packages (from torchvision) (1.26.3)\n",
      "Requirement already satisfied: pillow!=8.3.*,>=5.3.0 in /home/miya/.local/lib/python3.10/site-packages (from torchvision) (10.2.0)\n",
      "Requirement already satisfied: MarkupSafe>=2.0 in /home/miya/.local/lib/python3.10/site-packages (from jinja2->torch) (2.1.5)\n",
      "Requirement already satisfied: mpmath>=0.19 in /home/miya/.local/lib/python3.10/site-packages (from sympy->torch) (1.3.0)\n",
      "Requirement already satisfied: torchmetrics in /home/miya/anaconda3/envs/Image_Models_Library/lib/python3.10/site-packages (1.6.1)\n",
      "Requirement already satisfied: torch-fidelity in /home/miya/anaconda3/envs/Image_Models_Library/lib/python3.10/site-packages (0.3.0)\n",
      "Requirement already satisfied: numpy>1.20.0 in /home/miya/.local/lib/python3.10/site-packages (from torchmetrics) (1.26.3)\n",
      "Requirement already satisfied: packaging>17.1 in /home/miya/anaconda3/envs/Image_Models_Library/lib/python3.10/site-packages (from torchmetrics) (24.1)\n",
      "Requirement already satisfied: torch>=2.0.0 in /home/miya/.local/lib/python3.10/site-packages (from torchmetrics) (2.3.1+cu121)\n",
      "Requirement already satisfied: lightning-utilities>=0.8.0 in /home/miya/anaconda3/envs/Image_Models_Library/lib/python3.10/site-packages (from torchmetrics) (0.11.9)\n",
      "Requirement already satisfied: Pillow in /home/miya/.local/lib/python3.10/site-packages (from torch-fidelity) (10.2.0)\n",
      "Requirement already satisfied: scipy in /home/miya/anaconda3/envs/Image_Models_Library/lib/python3.10/site-packages (from torch-fidelity) (1.14.1)\n",
      "Requirement already satisfied: torchvision in /home/miya/.local/lib/python3.10/site-packages (from torch-fidelity) (0.18.1+cu121)\n",
      "Requirement already satisfied: tqdm in /home/miya/anaconda3/envs/Image_Models_Library/lib/python3.10/site-packages (from torch-fidelity) (4.67.1)\n",
      "Requirement already satisfied: setuptools in /home/miya/anaconda3/envs/Image_Models_Library/lib/python3.10/site-packages (from lightning-utilities>=0.8.0->torchmetrics) (75.1.0)\n",
      "Requirement already satisfied: typing-extensions in /home/miya/.local/lib/python3.10/site-packages (from lightning-utilities>=0.8.0->torchmetrics) (4.9.0)\n",
      "Requirement already satisfied: filelock in /home/miya/.local/lib/python3.10/site-packages (from torch>=2.0.0->torchmetrics) (3.13.1)\n",
      "Requirement already satisfied: sympy in /home/miya/.local/lib/python3.10/site-packages (from torch>=2.0.0->torchmetrics) (1.12)\n",
      "Requirement already satisfied: networkx in /home/miya/.local/lib/python3.10/site-packages (from torch>=2.0.0->torchmetrics) (3.2.1)\n",
      "Requirement already satisfied: jinja2 in /home/miya/.local/lib/python3.10/site-packages (from torch>=2.0.0->torchmetrics) (3.1.3)\n",
      "Requirement already satisfied: fsspec in /home/miya/.local/lib/python3.10/site-packages (from torch>=2.0.0->torchmetrics) (2024.2.0)\n",
      "Requirement already satisfied: nvidia-cuda-nvrtc-cu12==12.1.105 in /home/miya/.local/lib/python3.10/site-packages (from torch>=2.0.0->torchmetrics) (12.1.105)\n",
      "Requirement already satisfied: nvidia-cuda-runtime-cu12==12.1.105 in /home/miya/.local/lib/python3.10/site-packages (from torch>=2.0.0->torchmetrics) (12.1.105)\n",
      "Requirement already satisfied: nvidia-cuda-cupti-cu12==12.1.105 in /home/miya/.local/lib/python3.10/site-packages (from torch>=2.0.0->torchmetrics) (12.1.105)\n",
      "Requirement already satisfied: nvidia-cudnn-cu12==8.9.2.26 in /home/miya/.local/lib/python3.10/site-packages (from torch>=2.0.0->torchmetrics) (8.9.2.26)\n",
      "Requirement already satisfied: nvidia-cublas-cu12==12.1.3.1 in /home/miya/.local/lib/python3.10/site-packages (from torch>=2.0.0->torchmetrics) (12.1.3.1)\n",
      "Requirement already satisfied: nvidia-cufft-cu12==11.0.2.54 in /home/miya/.local/lib/python3.10/site-packages (from torch>=2.0.0->torchmetrics) (11.0.2.54)\n",
      "Requirement already satisfied: nvidia-curand-cu12==10.3.2.106 in /home/miya/.local/lib/python3.10/site-packages (from torch>=2.0.0->torchmetrics) (10.3.2.106)\n",
      "Requirement already satisfied: nvidia-cusolver-cu12==11.4.5.107 in /home/miya/.local/lib/python3.10/site-packages (from torch>=2.0.0->torchmetrics) (11.4.5.107)\n",
      "Requirement already satisfied: nvidia-cusparse-cu12==12.1.0.106 in /home/miya/.local/lib/python3.10/site-packages (from torch>=2.0.0->torchmetrics) (12.1.0.106)\n",
      "Requirement already satisfied: nvidia-nccl-cu12==2.20.5 in /home/miya/.local/lib/python3.10/site-packages (from torch>=2.0.0->torchmetrics) (2.20.5)\n",
      "Requirement already satisfied: nvidia-nvtx-cu12==12.1.105 in /home/miya/.local/lib/python3.10/site-packages (from torch>=2.0.0->torchmetrics) (12.1.105)\n",
      "Requirement already satisfied: triton==2.3.1 in /home/miya/.local/lib/python3.10/site-packages (from torch>=2.0.0->torchmetrics) (2.3.1)\n",
      "Requirement already satisfied: nvidia-nvjitlink-cu12 in /home/miya/.local/lib/python3.10/site-packages (from nvidia-cusolver-cu12==11.4.5.107->torch>=2.0.0->torchmetrics) (12.1.105)\n",
      "Requirement already satisfied: MarkupSafe>=2.0 in /home/miya/.local/lib/python3.10/site-packages (from jinja2->torch>=2.0.0->torchmetrics) (2.1.5)\n",
      "Requirement already satisfied: mpmath>=0.19 in /home/miya/.local/lib/python3.10/site-packages (from sympy->torch>=2.0.0->torchmetrics) (1.3.0)\n"
     ]
    }
   ],
   "source": [
    "!pip install torch torchvision\n",
    "!pip install torchmetrics torch-fidelity"
   ]
  },
  {
   "cell_type": "code",
   "execution_count": 2,
   "metadata": {},
   "outputs": [],
   "source": [
    "#ライブラリのインポート\n",
    "import numpy as np\n",
    "import math\n",
    "from tqdm.notebook import tqdm\n",
    "import torch\n",
    "import torch.nn as nn\n",
    "import torch.nn.functional as F\n",
    "from torch.utils.data import DataLoader\n",
    "from torchvision.datasets import FashionMNIST, CIFAR10\n",
    "import torchvision.transforms as transforms\n",
    "from torchmetrics.image.fid import FrechetInceptionDistance\n",
    "import os\n",
    "os.environ[\"KMP_DUPLICATE_LIB_OK\"] = \"TRUE\""
   ]
  },
  {
   "cell_type": "code",
   "execution_count": 3,
   "metadata": {},
   "outputs": [],
   "source": [
    "#パラメータの設定\n",
    "dataset_path = './data' #読み込んだデータセットを保存しておくパス\n",
    "cuda = True #GPUを使う場合はTrueにする\n",
    "device = torch.device(\"cuda\" if cuda else \"cpu\")\n",
    "\n",
    "diffusion_steps = 500 #拡散過程の総ステップ数\n",
    "\n",
    "batch_size = 100 #学習時に一回のパラメータ更新で使う訓練画像の枚数\n",
    "lr = 1e-3 #学習率(ネットワークの重みパラメータの更新幅)\n",
    "epochs = 5 #学習回数(全訓練データをモデルに何周学習させるか)"
   ]
  },
  {
   "cell_type": "markdown",
   "metadata": {},
   "source": [
    "###    Step 1. データセットの読み込み"
   ]
  },
  {
   "cell_type": "code",
   "execution_count": 4,
   "metadata": {},
   "outputs": [
    {
     "name": "stdout",
     "output_type": "stream",
     "text": [
      "Downloading http://fashion-mnist.s3-website.eu-central-1.amazonaws.com/train-images-idx3-ubyte.gz\n",
      "Downloading http://fashion-mnist.s3-website.eu-central-1.amazonaws.com/train-images-idx3-ubyte.gz to ./data/FashionMNIST/raw/train-images-idx3-ubyte.gz\n"
     ]
    },
    {
     "name": "stderr",
     "output_type": "stream",
     "text": [
      "100%|██████████| 26421880/26421880 [00:21<00:00, 1233248.36it/s]\n"
     ]
    },
    {
     "name": "stdout",
     "output_type": "stream",
     "text": [
      "Extracting ./data/FashionMNIST/raw/train-images-idx3-ubyte.gz to ./data/FashionMNIST/raw\n",
      "\n",
      "Downloading http://fashion-mnist.s3-website.eu-central-1.amazonaws.com/train-labels-idx1-ubyte.gz\n",
      "Downloading http://fashion-mnist.s3-website.eu-central-1.amazonaws.com/train-labels-idx1-ubyte.gz to ./data/FashionMNIST/raw/train-labels-idx1-ubyte.gz\n"
     ]
    },
    {
     "name": "stderr",
     "output_type": "stream",
     "text": [
      "100%|██████████| 29515/29515 [00:00<00:00, 114297.56it/s]\n"
     ]
    },
    {
     "name": "stdout",
     "output_type": "stream",
     "text": [
      "Extracting ./data/FashionMNIST/raw/train-labels-idx1-ubyte.gz to ./data/FashionMNIST/raw\n",
      "\n",
      "Downloading http://fashion-mnist.s3-website.eu-central-1.amazonaws.com/t10k-images-idx3-ubyte.gz\n",
      "Downloading http://fashion-mnist.s3-website.eu-central-1.amazonaws.com/t10k-images-idx3-ubyte.gz to ./data/FashionMNIST/raw/t10k-images-idx3-ubyte.gz\n"
     ]
    },
    {
     "name": "stderr",
     "output_type": "stream",
     "text": [
      "100%|██████████| 4422102/4422102 [00:03<00:00, 1129616.24it/s]\n"
     ]
    },
    {
     "name": "stdout",
     "output_type": "stream",
     "text": [
      "Extracting ./data/FashionMNIST/raw/t10k-images-idx3-ubyte.gz to ./data/FashionMNIST/raw\n",
      "\n",
      "Downloading http://fashion-mnist.s3-website.eu-central-1.amazonaws.com/t10k-labels-idx1-ubyte.gz\n",
      "Downloading http://fashion-mnist.s3-website.eu-central-1.amazonaws.com/t10k-labels-idx1-ubyte.gz to ./data/FashionMNIST/raw/t10k-labels-idx1-ubyte.gz\n"
     ]
    },
    {
     "name": "stderr",
     "output_type": "stream",
     "text": [
      "100%|██████████| 5148/5148 [00:00<00:00, 5851565.58it/s]"
     ]
    },
    {
     "name": "stdout",
     "output_type": "stream",
     "text": [
      "Extracting ./data/FashionMNIST/raw/t10k-labels-idx1-ubyte.gz to ./data/FashionMNIST/raw\n",
      "\n"
     ]
    },
    {
     "name": "stderr",
     "output_type": "stream",
     "text": [
      "\n"
     ]
    }
   ],
   "source": [
    "#Fashion-MNISTの読み込み\n",
    "img_size = 32 #画像幅\n",
    "channel_num = 1 #チャネル数(グレースケールなので1)\n",
    "mnist_transform = transforms.Compose([\n",
    "        transforms.ToTensor(),\n",
    "        transforms.Normalize(mean=[0.5], std=[0.5]), #画素値を-1～1の範囲に正規化\n",
    "        transforms.Resize(img_size, antialias=True) #UNetで扱うために画像幅を2のべき乗にリサイズ\n",
    "])\n",
    "train_dataset = FashionMNIST(dataset_path, transform=mnist_transform, train=True, download=True)\n",
    "test_dataset  = FashionMNIST(dataset_path, transform=mnist_transform, train=False, download=True)\n",
    "train_loader = DataLoader(train_dataset, batch_size=batch_size, shuffle=True)\n",
    "test_loader  = DataLoader(dataset=test_dataset,  batch_size=batch_size, shuffle=False)\n",
    "\n",
    "# #CIFAR10の読み込み（こちらを使う場合は上のFashion-MNISTをコメントアウト）\n",
    "# img_size = 32\n",
    "# channel_num = 3\n",
    "# transform = transforms.Compose([\n",
    "#     transforms.ToTensor(),\n",
    "#     transforms.Normalize(mean=[0.5, 0.5, 0.5], std=[0.5, 0.5, 0.5])\n",
    "# ])\n",
    "# train_dataset = CIFAR10(dataset_path, transform=transform, train=True, download=True\n",
    "# test_dataset = CIFAR10(dataset_path, transform=transform, train=False, download=True)\n",
    "# train_loader = DataLoader(train_dataset, batch_size=batch_size, shuffle=True)\n",
    "# test_loader  = DataLoader(dataset=test_dataset,  batch_size=batch_size, shuffle=False)"
   ]
  },
  {
   "cell_type": "markdown",
   "metadata": {},
   "source": [
    "### Step 2. DDPMの定義"
   ]
  },
  {
   "cell_type": "code",
   "execution_count": 5,
   "metadata": {},
   "outputs": [],
   "source": [
    "#DDPMで用いるニューラルネットの各モジュールを定義（今回は詳しい理解は不要）\n",
    "class SelfAttention(nn.Module):\n",
    "    def __init__(self, h_size):\n",
    "        super(SelfAttention, self).__init__()\n",
    "        self.h_size = h_size\n",
    "        self.mha = nn.MultiheadAttention(h_size, 4, batch_first=True)\n",
    "        self.ln = nn.LayerNorm([h_size])\n",
    "        self.ff_self = nn.Sequential(\n",
    "            nn.LayerNorm([h_size]),\n",
    "            nn.Linear(h_size, h_size),\n",
    "            nn.GELU(),\n",
    "            nn.Linear(h_size, h_size),\n",
    "        )\n",
    "\n",
    "    def forward(self, x):\n",
    "        x_ln = self.ln(x)\n",
    "        attention_value, _ = self.mha(x_ln, x_ln, x_ln)\n",
    "        attention_value = attention_value + x\n",
    "        attention_value = self.ff_self(attention_value) + attention_value\n",
    "        return attention_value\n",
    "\n",
    "\n",
    "class SAWrapper(nn.Module):\n",
    "    def __init__(self, h_size, num_s):\n",
    "        super(SAWrapper, self).__init__()\n",
    "        self.sa = nn.Sequential(*[SelfAttention(h_size) for _ in range(1)])\n",
    "        self.num_s = num_s\n",
    "        self.h_size = h_size\n",
    "\n",
    "    def forward(self, x):\n",
    "        x = x.view(-1, self.h_size, self.num_s * self.num_s).swapaxes(1, 2)\n",
    "        x = self.sa(x)\n",
    "        x = x.swapaxes(2, 1).view(-1, self.h_size, self.num_s, self.num_s)\n",
    "        return x\n",
    "\n",
    "class DoubleConv(nn.Module):\n",
    "    def __init__(self, in_channels, out_channels, mid_channels=None, residual=False):\n",
    "        super().__init__()\n",
    "        self.residual = residual\n",
    "        if not mid_channels:\n",
    "            mid_channels = out_channels\n",
    "        self.double_conv = nn.Sequential(\n",
    "            nn.Conv2d(in_channels, mid_channels, kernel_size=3, padding=1, bias=False),\n",
    "            nn.GroupNorm(1, mid_channels),\n",
    "            nn.GELU(),\n",
    "            nn.Conv2d(mid_channels, out_channels, kernel_size=3, padding=1, bias=False),\n",
    "            nn.GroupNorm(1, out_channels),\n",
    "        )\n",
    "\n",
    "    def forward(self, x):\n",
    "        if self.residual:\n",
    "            return F.gelu(x + self.double_conv(x))\n",
    "        else:\n",
    "            return self.double_conv(x)\n",
    "\n",
    "class Down(nn.Module):\n",
    "    def __init__(self, in_channels, out_channels):\n",
    "        super().__init__()\n",
    "        self.maxpool_conv = nn.Sequential(\n",
    "            nn.MaxPool2d(2),\n",
    "            DoubleConv(in_channels, in_channels, residual=True),\n",
    "            DoubleConv(in_channels, out_channels),\n",
    "        )\n",
    "\n",
    "    def forward(self, x):\n",
    "        return self.maxpool_conv(x)\n",
    "\n",
    "class Up(nn.Module):\n",
    "    def __init__(self, in_channels, out_channels, bilinear=True):\n",
    "        super().__init__()\n",
    "\n",
    "        # if bilinear, use the normal convolutions to reduce the number of channels\n",
    "        if bilinear:\n",
    "            self.up = nn.Upsample(scale_factor=2, mode=\"bilinear\", align_corners=True)\n",
    "            self.conv = DoubleConv(in_channels, in_channels, residual=True)\n",
    "            self.conv2 = DoubleConv(in_channels, out_channels, in_channels // 2)\n",
    "        else:\n",
    "            self.up = nn.ConvTranspose2d(\n",
    "                in_channels, in_channels // 2, kernel_size=2, stride=2\n",
    "            )\n",
    "            self.conv = DoubleConv(in_channels, out_channels)\n",
    "\n",
    "    def forward(self, x1, x2):\n",
    "        x1 = self.up(x1)\n",
    "        # input is CHW\n",
    "        diffY = x2.size()[2] - x1.size()[2]\n",
    "        diffX = x2.size()[3] - x1.size()[3]\n",
    "\n",
    "        x1 = F.pad(x1, [diffX // 2, diffX - diffX // 2, diffY // 2, diffY - diffY // 2])\n",
    "        x = torch.cat([x2, x1], dim=1)\n",
    "        x = self.conv(x)\n",
    "        x = self.conv2(x)\n",
    "        return x\n",
    "\n",
    "\n",
    "class OutConv(nn.Module):\n",
    "    def __init__(self, in_channels, out_channels):\n",
    "        super(OutConv, self).__init__()\n",
    "        self.conv = nn.Conv2d(in_channels, out_channels, kernel_size=1)\n",
    "\n",
    "    def forward(self, x):\n",
    "        return self.conv(x)"
   ]
  },
  {
   "cell_type": "code",
   "execution_count": 6,
   "metadata": {},
   "outputs": [],
   "source": [
    "#拡散モデルを定義\n",
    "class DiffusionModel(nn.Module):\n",
    "    def __init__(self, in_size, t_range, img_depth, device='cpu'):\n",
    "        super().__init__()\n",
    "        self.t_range = t_range\n",
    "        self.in_size = in_size\n",
    "        self.device=device\n",
    "        \n",
    "        #ノイズスケジュールパラメータの定義\n",
    "        self.beta_small = 1e-4\n",
    "        self.beta_large = 0.02\n",
    "        self.betas = torch.from_numpy(np.array(\n",
    "            [self.beta_small + (t / self.t_range) * (self.beta_large - self.beta_small) for t in range(self.t_range)]\n",
    "        ).astype(np.float32)).to(device)\n",
    "        self.alphas = 1-self.betas\n",
    "        self.alpha_bars = torch.cumprod(self.alphas, dim=0)\n",
    "        \n",
    "        #各層の定義\n",
    "        bilinear = True\n",
    "        self.inc = DoubleConv(img_depth, 64)\n",
    "        self.down1 = Down(64, 128)\n",
    "        self.down2 = Down(128, 256)\n",
    "        factor = 2 if bilinear else 1\n",
    "        self.down3 = Down(256, 512 // factor)\n",
    "        self.up1 = Up(512, 256 // factor, bilinear)\n",
    "        self.up2 = Up(256, 128 // factor, bilinear)\n",
    "        self.up3 = Up(128, 64, bilinear)\n",
    "        self.outc = OutConv(64, img_depth)\n",
    "        self.sa1 = SAWrapper(256, 8)\n",
    "        self.sa2 = SAWrapper(256, 4)\n",
    "        self.sa3 = SAWrapper(128, 8)      \n",
    "    \n",
    "    #時刻情報を正弦波位置埋め込みの特徴量に変換する関数\n",
    "    def pos_encoding(self, t, channels, embed_size):\n",
    "        t = t.unsqueeze(-1) if t.dim()==1 else t\n",
    "        inv_freq = 1.0 / (\n",
    "            10000\n",
    "            ** (torch.arange(0, channels, 2, device=self.device).float() / channels)\n",
    "        )\n",
    "        pos_enc_a = torch.sin(t.repeat(1, channels // 2) * inv_freq)\n",
    "        pos_enc_b = torch.cos(t.repeat(1, channels // 2) * inv_freq)\n",
    "        pos_enc = torch.cat([pos_enc_a, pos_enc_b], dim=-1)\n",
    "        return pos_enc.view(-1, channels, 1, 1).repeat(1, 1, embed_size, embed_size)\n",
    "    \n",
    "    #UNetの順伝播処理：引数xに付与されたノイズepsilonを推定\n",
    "    def forward(self, x, t):\n",
    "        #時刻情報を反映するために各層の特徴マップの各画素に時刻特徴量を加算\n",
    "        x1 = self.inc(x)\n",
    "        x2 = self.down1(x1) + self.pos_encoding(t, 128, int(x1.shape[-1]/2))\n",
    "        x3 = self.down2(x2) + self.pos_encoding(t, 256, int(x2.shape[-1]/2))\n",
    "        x3 = self.sa1(x3)\n",
    "        x4 = self.down3(x3) + self.pos_encoding(t, 256, int(x3.shape[-1]/2))\n",
    "        x4 = self.sa2(x4)\n",
    "        x = self.up1(x4, x3) + self.pos_encoding(t, 128, int(x4.shape[-1]*2))\n",
    "        x = self.sa3(x)\n",
    "        x = self.up2(x, x2) + self.pos_encoding(t, 64, int(x.shape[-1]*2))\n",
    "        x = self.up3(x, x1) + self.pos_encoding(t, 64, int(x.shape[-1]*2))\n",
    "        output = self.outc(x)\n",
    "        return output\n",
    "    \n",
    "    #拡散過程の定義：引数xに時刻tのノイズを付与した画像xt、および付与したノイズepsilonを返す\n",
    "    def forward_diffusion(self, x, t):\n",
    "        epsilon = torch.randn(x.shape, device=self.device)\n",
    "        alpha_bars = self.alpha_bars[t].reshape((-1, 1, 1, 1))\n",
    "        xt = torch.sqrt(alpha_bars)*x+torch.sqrt(1-alpha_bars)*epsilon\n",
    "        return xt, epsilon\n",
    "    \n",
    "    #逆拡散過程の定義：時刻tにおける引数xに対してt-1のデノイズ結果を返す\n",
    "    def reverse_diffusion(self, x, t):\n",
    "        with torch.no_grad():\n",
    "            if t > 1:\n",
    "                z = torch.randn(x.shape, device=self.device)\n",
    "            else:\n",
    "                z = 0\n",
    "\n",
    "            e_hat = self.forward(x, t.view(1, 1).repeat(x.shape[0], 1))\n",
    "            pre_scale = 1 / math.sqrt(self.alphas[t])\n",
    "            e_scale = (1 - self.alphas[t]) / math.sqrt(1 - self.alpha_bars[t])\n",
    "            post_sigma = math.sqrt(self.betas[t]) * z\n",
    "            x = pre_scale * (x - e_scale * e_hat) + post_sigma\n",
    "            return x\n",
    "\n",
    "model = DiffusionModel(img_size*img_size, diffusion_steps, channel_num, device=device).to(device)"
   ]
  },
  {
   "cell_type": "markdown",
   "metadata": {},
   "source": [
    "### Step 3. 損失関数の定義\n",
    "#### 課題のヒント\n",
    "- 損失関数の引数の説明\n",
    "    - x0：時刻 t=0 の画像のテンソル\n",
    "\n",
    "- 課題で使うことを想定した演算・関数\n",
    "    - テンソルどうしは + や - で加算減算が可能\n",
    "    - Step2のDiffusionModelクラスのメンバ関数（コメントを参照）\n",
    "    - (テンソル)**2：テンソルの各要素を二乗する\n",
    "    - (テンソル).sum()：テンソルの各要素の和をとる"
   ]
  },
  {
   "cell_type": "code",
   "execution_count": 7,
   "metadata": {},
   "outputs": [],
   "source": [
    "def loss_function(x0):\n",
    "    t = torch.randint(0, diffusion_steps, [x0.shape[0]], device=device) #時刻tを一様分布からサンプリング\n",
    "    xt, epsilon =  model.forward_diffusion(x0, t) #拡散過程によりノイズ画像xtとノイズepsilonを取得\n",
    "    epsilon_pred = model.forward(xt,t) #UNetの順伝播によりxtに付与されたノイズepsilon_predを推定\n",
    "    loss = torch.mean((epsilon - epsilon_pred) ** 2) #epsilonとepsilon_predの誤差を損失lossとして計算\n",
    "    return loss"
   ]
  },
  {
   "cell_type": "markdown",
   "metadata": {},
   "source": [
    "### Step 4. DDPMの学習"
   ]
  },
  {
   "cell_type": "code",
   "execution_count": 8,
   "metadata": {},
   "outputs": [
    {
     "name": "stdout",
     "output_type": "stream",
     "text": [
      "Requirement already satisfied: ipywidgets in /home/miya/anaconda3/envs/Image_Models_Library/lib/python3.10/site-packages (8.1.5)\n",
      "Requirement already satisfied: comm>=0.1.3 in /home/miya/anaconda3/envs/Image_Models_Library/lib/python3.10/site-packages (from ipywidgets) (0.2.2)\n",
      "Requirement already satisfied: ipython>=6.1.0 in /home/miya/anaconda3/envs/Image_Models_Library/lib/python3.10/site-packages (from ipywidgets) (8.31.0)\n",
      "Requirement already satisfied: traitlets>=4.3.1 in /home/miya/anaconda3/envs/Image_Models_Library/lib/python3.10/site-packages (from ipywidgets) (5.14.3)\n",
      "Requirement already satisfied: widgetsnbextension~=4.0.12 in /home/miya/anaconda3/envs/Image_Models_Library/lib/python3.10/site-packages (from ipywidgets) (4.0.13)\n",
      "Requirement already satisfied: jupyterlab-widgets~=3.0.12 in /home/miya/anaconda3/envs/Image_Models_Library/lib/python3.10/site-packages (from ipywidgets) (3.0.13)\n",
      "Requirement already satisfied: decorator in /home/miya/anaconda3/envs/Image_Models_Library/lib/python3.10/site-packages (from ipython>=6.1.0->ipywidgets) (5.1.1)\n",
      "Requirement already satisfied: exceptiongroup in /home/miya/anaconda3/envs/Image_Models_Library/lib/python3.10/site-packages (from ipython>=6.1.0->ipywidgets) (1.2.2)\n",
      "Requirement already satisfied: jedi>=0.16 in /home/miya/anaconda3/envs/Image_Models_Library/lib/python3.10/site-packages (from ipython>=6.1.0->ipywidgets) (0.19.2)\n",
      "Requirement already satisfied: matplotlib-inline in /home/miya/anaconda3/envs/Image_Models_Library/lib/python3.10/site-packages (from ipython>=6.1.0->ipywidgets) (0.1.7)\n",
      "Requirement already satisfied: pexpect>4.3 in /home/miya/anaconda3/envs/Image_Models_Library/lib/python3.10/site-packages (from ipython>=6.1.0->ipywidgets) (4.9.0)\n",
      "Requirement already satisfied: prompt_toolkit<3.1.0,>=3.0.41 in /home/miya/anaconda3/envs/Image_Models_Library/lib/python3.10/site-packages (from ipython>=6.1.0->ipywidgets) (3.0.48)\n",
      "Requirement already satisfied: pygments>=2.4.0 in /home/miya/anaconda3/envs/Image_Models_Library/lib/python3.10/site-packages (from ipython>=6.1.0->ipywidgets) (2.18.0)\n",
      "Requirement already satisfied: stack_data in /home/miya/anaconda3/envs/Image_Models_Library/lib/python3.10/site-packages (from ipython>=6.1.0->ipywidgets) (0.6.3)\n",
      "Requirement already satisfied: typing_extensions>=4.6 in /home/miya/.local/lib/python3.10/site-packages (from ipython>=6.1.0->ipywidgets) (4.9.0)\n",
      "Requirement already satisfied: parso<0.9.0,>=0.8.4 in /home/miya/anaconda3/envs/Image_Models_Library/lib/python3.10/site-packages (from jedi>=0.16->ipython>=6.1.0->ipywidgets) (0.8.4)\n",
      "Requirement already satisfied: ptyprocess>=0.5 in /home/miya/anaconda3/envs/Image_Models_Library/lib/python3.10/site-packages (from pexpect>4.3->ipython>=6.1.0->ipywidgets) (0.7.0)\n",
      "Requirement already satisfied: wcwidth in /home/miya/anaconda3/envs/Image_Models_Library/lib/python3.10/site-packages (from prompt_toolkit<3.1.0,>=3.0.41->ipython>=6.1.0->ipywidgets) (0.2.13)\n",
      "Requirement already satisfied: executing>=1.2.0 in /home/miya/anaconda3/envs/Image_Models_Library/lib/python3.10/site-packages (from stack_data->ipython>=6.1.0->ipywidgets) (2.1.0)\n",
      "Requirement already satisfied: asttokens>=2.1.0 in /home/miya/anaconda3/envs/Image_Models_Library/lib/python3.10/site-packages (from stack_data->ipython>=6.1.0->ipywidgets) (3.0.0)\n",
      "Requirement already satisfied: pure_eval in /home/miya/anaconda3/envs/Image_Models_Library/lib/python3.10/site-packages (from stack_data->ipython>=6.1.0->ipywidgets) (0.2.3)\n"
     ]
    }
   ],
   "source": [
    "!pip install ipywidgets\n"
   ]
  },
  {
   "cell_type": "code",
   "execution_count": 9,
   "metadata": {},
   "outputs": [
    {
     "name": "stdout",
     "output_type": "stream",
     "text": [
      "Start training DDPM...\n"
     ]
    },
    {
     "data": {
      "application/vnd.jupyter.widget-view+json": {
       "model_id": "c8959a59b4f9452282042d192677bb9f",
       "version_major": 2,
       "version_minor": 0
      },
      "text/plain": [
       "  0%|          | 0/600 [00:00<?, ?it/s]"
      ]
     },
     "metadata": {},
     "output_type": "display_data"
    },
    {
     "name": "stdout",
     "output_type": "stream",
     "text": [
      "\tEpoch 1 complete! \tAverage Loss:  0.0014601705545475567\n"
     ]
    },
    {
     "data": {
      "application/vnd.jupyter.widget-view+json": {
       "model_id": "723f118797d548eb88ace43a346c3550",
       "version_major": 2,
       "version_minor": 0
      },
      "text/plain": [
       "  0%|          | 0/600 [00:00<?, ?it/s]"
      ]
     },
     "metadata": {},
     "output_type": "display_data"
    },
    {
     "name": "stdout",
     "output_type": "stream",
     "text": [
      "\tEpoch 2 complete! \tAverage Loss:  0.0006169572262363959\n"
     ]
    },
    {
     "data": {
      "application/vnd.jupyter.widget-view+json": {
       "model_id": "117a6d567e054ac49031338cc516ea06",
       "version_major": 2,
       "version_minor": 0
      },
      "text/plain": [
       "  0%|          | 0/600 [00:00<?, ?it/s]"
      ]
     },
     "metadata": {},
     "output_type": "display_data"
    },
    {
     "name": "stdout",
     "output_type": "stream",
     "text": [
      "\tEpoch 3 complete! \tAverage Loss:  0.0005709904466502257\n"
     ]
    },
    {
     "data": {
      "application/vnd.jupyter.widget-view+json": {
       "model_id": "51f4aaa55be74fadb18512e0398b8af7",
       "version_major": 2,
       "version_minor": 0
      },
      "text/plain": [
       "  0%|          | 0/600 [00:00<?, ?it/s]"
      ]
     },
     "metadata": {},
     "output_type": "display_data"
    },
    {
     "name": "stdout",
     "output_type": "stream",
     "text": [
      "\tEpoch 4 complete! \tAverage Loss:  0.0005376094303564953\n"
     ]
    },
    {
     "data": {
      "application/vnd.jupyter.widget-view+json": {
       "model_id": "583acb212090419286a8ec09491b1962",
       "version_major": 2,
       "version_minor": 0
      },
      "text/plain": [
       "  0%|          | 0/600 [00:00<?, ?it/s]"
      ]
     },
     "metadata": {},
     "output_type": "display_data"
    },
    {
     "name": "stdout",
     "output_type": "stream",
     "text": [
      "\tEpoch 5 complete! \tAverage Loss:  0.000505653233244045\n",
      "Finish!!\n"
     ]
    }
   ],
   "source": [
    "optimizer = torch.optim.Adam(model.parameters(), lr=lr)\n",
    "model.train()\n",
    "print(\"Start training DDPM...\")\n",
    "for epoch in range(epochs):\n",
    "    overall_loss = 0\n",
    "    for batch_idx, (x,_) in tqdm(enumerate(train_loader), total=len(train_loader)):#画像をbatch_size枚ずつ読み込みxに格納\n",
    "        #x = x.view(batch_size, x_dim)#(batch_size,縦幅,横幅)のテンソルを(batch_size,縦幅x横幅)のテンソルに変換\n",
    "        x = x.to(device)#GPUで処理する場合はデータをGPUに移動、CPUの場合はそのままz\n",
    "        optimizer.zero_grad()#最適化器を初期化\n",
    "        loss = loss_function(x)#損失関数を計算\n",
    "        overall_loss += loss.item()#損失の総和を計算\n",
    "        loss.backward()#誤差伝播法によりネットワークの重みパラメータに対する勾配を計算\n",
    "        optimizer.step()#重みパラメータの更新\n",
    "        \n",
    "    print(\"\\tEpoch\", epoch + 1, \"complete!\", \"\\tAverage Loss: \", overall_loss / (batch_idx*batch_size))\n",
    "    \n",
    "print(\"Finish!!\")"
   ]
  },
  {
   "cell_type": "markdown",
   "metadata": {},
   "source": [
    "### Step 5. ランダムノイズからの画像生成"
   ]
  },
  {
   "cell_type": "code",
   "execution_count": 10,
   "metadata": {},
   "outputs": [
    {
     "data": {
      "application/vnd.jupyter.widget-view+json": {
       "model_id": "33037306e54048fd9b37a692659ef70a",
       "version_major": 2,
       "version_minor": 0
      },
      "text/plain": [
       "  0%|          | 0/499 [00:00<?, ?it/s]"
      ]
     },
     "metadata": {},
     "output_type": "display_data"
    },
    {
     "data": {
      "image/png": "[encoded data removed]",
      "text/plain": [
       "<Figure size 1000x1000 with 25 Axes>"
      ]
     },
     "metadata": {},
     "output_type": "display_data"
    }
   ],
   "source": [
    "import matplotlib.pyplot as plt\n",
    "def show_images(x, n_row=5, n_col=5):\n",
    "    x = x.repeat((1,3,1,1)) if x.shape[1]==1 else x #白黒画像(1チャネル)なら可視化用にRGB画像(3チャネル)に変換\n",
    "    x = x.moveaxis(1, 3)\n",
    "    plt.figure(figsize=(10, 10))\n",
    "    for i in range(n_row*n_col):\n",
    "        plt.subplot(n_row, n_col, i+1)\n",
    "        plt.title(i)\n",
    "        plt.imshow(x[i].cpu().numpy())\n",
    "        plt.axis('off')\n",
    "\n",
    "xt = torch.randn((25, channel_num, img_size, img_size)).to(device)\n",
    "sample_steps = torch.arange(diffusion_steps-1, 0, -1).to(device)\n",
    "for t in tqdm(sample_steps):\n",
    "    xt = model.reverse_diffusion(xt, t)\n",
    "xt = (xt.clamp(-1, 1) + 1)/2\n",
    "show_images(xt)"
   ]
  },
  {
   "cell_type": "markdown",
   "metadata": {},
   "source": [
    "### Step6. FIDによる定量評価"
   ]
  },
  {
   "cell_type": "code",
   "execution_count": 11,
   "metadata": {},
   "outputs": [
    {
     "data": {
      "text/plain": [
       "tensor(17.9754, device='cuda:0')"
      ]
     },
     "execution_count": 11,
     "metadata": {},
     "output_type": "execute_result"
    }
   ],
   "source": [
    "gt = [] #正解画像(ground truth)リスト\n",
    "for test_img, _ in test_loader:\n",
    "    gt.append((test_img.to(device)+1)/2.)\n",
    "gt = torch.cat(gt, dim=0)\n",
    "gt = gt[:xt.shape[0]] #VRAMの消費を減らすためにデータ数をxtに揃える(全データを使って評価しても良い)\n",
    "\n",
    "xt = xt.repeat((1,3,1,1)) if xt.shape[1]==1 else xt #白黒画像(1チャネル)なら評価用にRGB画像(3チャネル)に変換\n",
    "gt = gt.repeat(1,3,1,1) if gt.shape[1]==1 else gt #白黒画像(1チャネル)なら評価用にRGB画像(3チャネル)に変換\n",
    "\n",
    "fid = FrechetInceptionDistance(feature=64, normalize=True).to(device)\n",
    "fid.update(gt, real=True)\n",
    "fid.update(xt, real=False)\n",
    "fid.compute()"
   ]
  },
  {
   "cell_type": "markdown",
   "metadata": {},
   "source": [
    "## 課題2"
   ]
  },
  {
   "cell_type": "code",
   "execution_count": 12,
   "metadata": {},
   "outputs": [
    {
     "name": "stdout",
     "output_type": "stream",
     "text": [
      "Training DDPM with 100 diffusion steps...\n"
     ]
    },
    {
     "name": "stderr",
     "output_type": "stream",
     "text": [
      " 62%|██████▏   | 370/600 [00:23<00:14, 15.64it/s]\n"
     ]
    },
    {
     "ename": "KeyboardInterrupt",
     "evalue": "",
     "output_type": "error",
     "traceback": [
      "\u001b[0;31m---------------------------------------------------------------------------\u001b[0m",
      "\u001b[0;31mKeyboardInterrupt\u001b[0m                         Traceback (most recent call last)",
      "Cell \u001b[0;32mIn[12], line 21\u001b[0m\n\u001b[1;32m     19\u001b[0m overall_loss \u001b[38;5;241m=\u001b[39m \u001b[38;5;241m0\u001b[39m\n\u001b[1;32m     20\u001b[0m \u001b[38;5;28;01mfor\u001b[39;00m batch_idx, (x, _) \u001b[38;5;129;01min\u001b[39;00m tqdm(\u001b[38;5;28menumerate\u001b[39m(train_loader), total\u001b[38;5;241m=\u001b[39m\u001b[38;5;28mlen\u001b[39m(train_loader)):\n\u001b[0;32m---> 21\u001b[0m     x \u001b[38;5;241m=\u001b[39m \u001b[43mx\u001b[49m\u001b[38;5;241;43m.\u001b[39;49m\u001b[43mto\u001b[49m\u001b[43m(\u001b[49m\u001b[43mdevice\u001b[49m\u001b[43m)\u001b[49m\n\u001b[1;32m     22\u001b[0m     optimizer\u001b[38;5;241m.\u001b[39mzero_grad()\n\u001b[1;32m     23\u001b[0m     loss \u001b[38;5;241m=\u001b[39m loss_function(x)\n",
      "\u001b[0;31mKeyboardInterrupt\u001b[0m: "
     ]
    }
   ],
   "source": [
    "import torch\n",
    "from tqdm import tqdm\n",
    "import numpy as np\n",
    "from torchmetrics.image.fid import FrechetInceptionDistance\n",
    "import matplotlib.pyplot as plt\n",
    "\n",
    "# 設定\n",
    "diffusion_steps_list = [100, 200, 500, 1000, 2000]\n",
    "results = []\n",
    "\n",
    "# 学習と評価\n",
    "for diffusion_steps in diffusion_steps_list:\n",
    "    print(f\"Training DDPM with {diffusion_steps} diffusion steps...\")\n",
    "    model = DiffusionModel(img_size * img_size, diffusion_steps, channel_num, device=device).to(device)\n",
    "    optimizer = torch.optim.Adam(model.parameters(), lr=lr)\n",
    "    model.train()\n",
    "\n",
    "    for epoch in range(epochs):\n",
    "        overall_loss = 0\n",
    "        for batch_idx, (x, _) in tqdm(enumerate(train_loader), total=len(train_loader)):\n",
    "            x = x.to(device)\n",
    "            optimizer.zero_grad()\n",
    "            loss = loss_function(x)\n",
    "            overall_loss += loss.item()\n",
    "            loss.backward()\n",
    "            optimizer.step()\n",
    "\n",
    "        print(f\"\\tEpoch {epoch + 1} complete! \\tAverage Loss: {overall_loss / (batch_idx * batch_size)}\")\n",
    "\n",
    "    print(\"Training complete. Starting evaluation...\")\n",
    "\n",
    "    # サンプリング\n",
    "    xt = torch.randn((25, channel_num, img_size, img_size)).to(device)\n",
    "    sample_steps = torch.arange(diffusion_steps - 1, 0, -1).to(device)\n",
    "    for t in tqdm(sample_steps):\n",
    "        xt = model.reverse_diffusion(xt, t)\n",
    "    xt = (xt.clamp(-1, 1) + 1) / 2\n",
    "\n",
    "    # 正解画像取得\n",
    "    gt = []\n",
    "    for test_img, _ in test_loader:\n",
    "        gt.append((test_img.to(device) + 1) / 2.)\n",
    "    gt = torch.cat(gt, dim=0)\n",
    "    gt = gt[:xt.shape[0]]\n",
    "\n",
    "    xt = xt.repeat((1, 3, 1, 1)) if xt.shape[1] == 1 else xt\n",
    "    gt = gt.repeat(1, 3, 1, 1) if gt.shape[1] == 1 else gt\n",
    "\n",
    "    # FID計算\n",
    "    fid = FrechetInceptionDistance(feature=64, normalize=True).to(device)\n",
    "    fid.update(gt, real=True)\n",
    "    fid.update(xt, real=False)\n",
    "    fid_score = fid.compute().item()\n",
    "    results.append({\"diffusion_steps\": diffusion_steps, \"FID\": fid_score})\n",
    "    print(f\"Diffusion Steps: {diffusion_steps}, FID: {fid_score}\")\n"
   ]
  },
  {
   "cell_type": "markdown",
   "metadata": {},
   "source": [
    "## 課題3"
   ]
  },
  {
   "cell_type": "code",
   "execution_count": 13,
   "metadata": {},
   "outputs": [
    {
     "name": "stdout",
     "output_type": "stream",
     "text": [
      "Start training DDPM...\n"
     ]
    },
    {
     "name": "stderr",
     "output_type": "stream",
     "text": [
      "100%|██████████| 600/600 [00:38<00:00, 15.65it/s]\n"
     ]
    },
    {
     "name": "stdout",
     "output_type": "stream",
     "text": [
      "\tEpoch 1 complete! \tAverage Loss:  0.0011354151829915473\n"
     ]
    },
    {
     "name": "stderr",
     "output_type": "stream",
     "text": [
      "100%|██████████| 600/600 [00:38<00:00, 15.73it/s]\n"
     ]
    },
    {
     "name": "stdout",
     "output_type": "stream",
     "text": [
      "\tEpoch 2 complete! \tAverage Loss:  0.0004595826607887852\n"
     ]
    },
    {
     "name": "stderr",
     "output_type": "stream",
     "text": [
      "100%|██████████| 600/600 [00:38<00:00, 15.70it/s]\n"
     ]
    },
    {
     "name": "stdout",
     "output_type": "stream",
     "text": [
      "\tEpoch 3 complete! \tAverage Loss:  0.0004209374223146992\n"
     ]
    },
    {
     "name": "stderr",
     "output_type": "stream",
     "text": [
      "100%|██████████| 600/600 [00:38<00:00, 15.75it/s]\n"
     ]
    },
    {
     "name": "stdout",
     "output_type": "stream",
     "text": [
      "\tEpoch 4 complete! \tAverage Loss:  0.00039359361536564535\n"
     ]
    },
    {
     "name": "stderr",
     "output_type": "stream",
     "text": [
      "100%|██████████| 600/600 [00:38<00:00, 15.72it/s]"
     ]
    },
    {
     "name": "stdout",
     "output_type": "stream",
     "text": [
      "\tEpoch 5 complete! \tAverage Loss:  0.0003727396952613367\n",
      "Finish!!\n"
     ]
    },
    {
     "name": "stderr",
     "output_type": "stream",
     "text": [
      "\n"
     ]
    }
   ],
   "source": [
    "diffusion_steps = 1000\n",
    "epochs = 5\n",
    "model = DiffusionModel(img_size*img_size, diffusion_steps, channel_num, device=device).to(device)\n",
    "optimizer = torch.optim.Adam(model.parameters(), lr=lr)\n",
    "model.train()\n",
    "print(\"Start training DDPM...\")\n",
    "for epoch in range(epochs):\n",
    "    overall_loss = 0\n",
    "    for batch_idx, (x,_) in tqdm(enumerate(train_loader), total=len(train_loader)):#画像をbatch_size枚ずつ読み込みxに格納\n",
    "        #x = x.view(batch_size, x_dim)#(batch_size,縦幅,横幅)のテンソルを(batch_size,縦幅x横幅)のテンソルに変換\n",
    "        x = x.to(device)#GPUで処理する場合はデータをGPUに移動、CPUの場合はそのままz\n",
    "        optimizer.zero_grad()#最適化器を初期化\n",
    "        loss = loss_function(x)#損失関数を計算\n",
    "        overall_loss += loss.item()#損失の総和を計算\n",
    "        loss.backward()#誤差伝播法によりネットワークの重みパラメータに対する勾配を計算\n",
    "        optimizer.step()#重みパラメータの更新\n",
    "        \n",
    "    print(\"\\tEpoch\", epoch + 1, \"complete!\", \"\\tAverage Loss: \", overall_loss / (batch_idx*batch_size))\n",
    "    \n",
    "print(\"Finish!!\")"
   ]
  },
  {
   "cell_type": "code",
   "execution_count": 18,
   "metadata": {},
   "outputs": [
    {
     "name": "stdout",
     "output_type": "stream",
     "text": [
      "torch.Size([100, 1, 32, 32])\n",
      "     t       MSE\n",
      "0   10  0.625201\n",
      "1   50  0.630953\n",
      "2  100  0.638669\n",
      "3  200  0.653076\n",
      "4  500  0.731501\n"
     ]
    },
    {
     "data": {
      "image/png": "[encoded data removed]",
      "text/plain": [
       "<Figure size 800x500 with 1 Axes>"
      ]
     },
     "metadata": {},
     "output_type": "display_data"
    }
   ],
   "source": [
    "import torch\n",
    "import matplotlib.pyplot as plt\n",
    "import pandas as pd\n",
    "\n",
    "# 設定\n",
    "t_values = [10, 50, 100, 200, 500]  # t の値\n",
    "results = []\n",
    "\n",
    "import torch\n",
    "import pandas as pd\n",
    "\n",
    "# 設定\n",
    "t_values = [10, 50, 100, 200, 500]  # t の値\n",
    "\n",
    "\n",
    "def evaluate_quality(x0, model, t_values):\n",
    "    \"\"\"\n",
    "    拡散過程と逆拡散過程を通じて画像の品質を評価\n",
    "\n",
    "    Args:\n",
    "        x0: 元画像 (N, C, H, W)\n",
    "        model: Diffusion モデル\n",
    "        t_values: t のリスト\n",
    "\n",
    "    Returns:\n",
    "        reconstruction_scores: t ごとの復元スコアリスト (t, MSE)\n",
    "    \"\"\"\n",
    "    reconstruction_scores = []\n",
    "    for t in t_values:\n",
    "        # 拡散過程でノイズ画像 xt を生成\n",
    "        xt, epsilon = model.forward_diffusion(x0, torch.tensor([t]).to(x0.device))\n",
    "\n",
    "        # 逆拡散過程で xt をデノイズ\n",
    "        x_rec = xt.clone()\n",
    "        for step in reversed(range(1, t + 1)):\n",
    "            x_rec = model.reverse_diffusion(x_rec, torch.tensor([step]).to(x0.device))\n",
    "\n",
    "        x_rec = (x_rec.clamp(-1, 1) + 1) / 2  # [0, 1] に正規化\n",
    "\n",
    "        # 復元スコア計算 (MSE)\n",
    "        mse_score = torch.mean((x0 - x_rec) ** 2).item()\n",
    "        reconstruction_scores.append((t, mse_score))\n",
    "\n",
    "    return reconstruction_scores\n",
    "\n",
    "\n",
    "# テスト用データ (最初のバッチを取得)\n",
    "for x0, _ in test_loader:\n",
    "    x0 = x0.to(device)\n",
    "    break\n",
    "print(x0.shape)\n",
    "\n",
    "# 復元スコアと画像を計算\n",
    "reconstruction_results = evaluate_quality(x0, model, t_values)\n",
    "\n",
    "# 結果を表形式で表示\n",
    "reconstruction_df = pd.DataFrame(reconstruction_results, columns=[\"t\", \"MSE\"])\n",
    "print(reconstruction_df)\n",
    "\n",
    "# グラフ化\n",
    "t_values, mse_scores = zip(*reconstruction_results)\n",
    "plt.figure(figsize=(8, 5))\n",
    "plt.plot(t_values, mse_scores, marker=\"o\", label=\"MSE\")\n",
    "plt.xlabel(\"t (Diffusion Step)\")\n",
    "plt.ylabel(\"Reconstruction Error (MSE)\")\n",
    "plt.title(\"Effect of t on Reconstruction Quality\")\n",
    "plt.grid(True)\n",
    "plt.legend()\n",
    "plt.show()"
   ]
  },
  {
   "cell_type": "code",
   "execution_count": 23,
   "metadata": {},
   "outputs": [
    {
     "data": {
      "image/png": "[encoded data removed]",
      "text/plain": [
       "<Figure size 1500x500 with 6 Axes>"
      ]
     },
     "metadata": {},
     "output_type": "display_data"
    }
   ],
   "source": [
    "# 指定した時間ステップ\n",
    "t_values = [10, 20, 50, 100, 200, 500]\n",
    "\n",
    "# テストデータローダーから元画像 x0 を取得\n",
    "for x0, _ in test_loader:\n",
    "    x0 = x0[:1].to(device)  # 最初の1枚を取得\n",
    "    break\n",
    "\n",
    "# 拡散過程でノイズ画像 xt を生成\n",
    "xt_list = []\n",
    "for t in t_values:\n",
    "    xt, _ = model.forward_diffusion(x0, torch.tensor(t - 1, device=device))\n",
    "    xt_list.append(xt)\n",
    "\n",
    "# 逆拡散過程で復元\n",
    "reconstructed_images = []\n",
    "for xt, t in zip(xt_list, t_values):\n",
    "    x_rec = xt.clone()\n",
    "    for step in reversed(range(1, t + 1)):\n",
    "        x_rec = model.reverse_diffusion(x_rec, torch.tensor([step], device=device))\n",
    "    x_rec = (x_rec.clamp(-1, 1) + 1) / 2  # 正規化\n",
    "    reconstructed_images.append(x_rec)\n",
    "\n",
    "# 結果の表示\n",
    "def show_images(images, titles, n_row=1, n_col=5):\n",
    "    plt.figure(figsize=(15, 5))\n",
    "    for idx, (img, title) in enumerate(zip(images, titles)):\n",
    "        img = img[0].permute(1, 2, 0).cpu().numpy()  # バッチの1枚目を取得\n",
    "        plt.subplot(n_row, n_col, idx + 1)\n",
    "        plt.imshow(img)\n",
    "        plt.title(title)\n",
    "        plt.axis('off')\n",
    "    plt.show()\n",
    "\n",
    "show_images(reconstructed_images, [f\"t={t}\" for t in t_values])"
   ]
  }
 ],
 "metadata": {
  "kernelspec": {
   "display_name": "Image_Models_Library",
   "language": "python",
   "name": "python3"
  },
  "language_info": {
   "codemirror_mode": {
    "name": "ipython",
    "version": 3
   },
   "file_extension": ".py",
   "mimetype": "text/x-python",
   "name": "python",
   "nbconvert_exporter": "python",
   "pygments_lexer": "ipython3",
   "version": "3.10.13"
  }
 },
 "nbformat": 4,
 "nbformat_minor": 2
}
