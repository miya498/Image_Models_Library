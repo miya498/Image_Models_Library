{
 "cells": [
  {
   "cell_type": "markdown",
   "metadata": {},
   "source": [
    "# NumPy Basics\n",
    "このノートブックでは、NumPyの基本操作について説明します。"
   ]
  },
  {
   "cell_type": "markdown",
   "metadata": {},
   "source": [
    "## 1. 配列の作成"
   ]
  },
  {
   "cell_type": "code",
   "execution_count": 1,
   "metadata": {},
   "outputs": [
    {
     "name": "stdout",
     "output_type": "stream",
     "text": [
      "Array: [1 2 3 4 5]\n",
      "Zeros Array: [[0. 0. 0.]\n",
      " [0. 0. 0.]]\n",
      "Ones Array: [[1. 1. 1.]\n",
      " [1. 1. 1.]\n",
      " [1. 1. 1.]]\n",
      "Range Array: [0 2 4 6 8]\n"
     ]
    }
   ],
   "source": [
    "import numpy as np\n",
    "\n",
    "# 配列の作成\n",
    "array = np.array([1, 2, 3, 4, 5])\n",
    "zeros_array = np.zeros((2, 3))\n",
    "ones_array = np.ones((3, 3))\n",
    "range_array = np.arange(0, 10, 2)\n",
    "\n",
    "print(\"Array:\", array)\n",
    "print(\"Zeros Array:\", zeros_array)\n",
    "print(\"Ones Array:\", ones_array)\n",
    "print(\"Range Array:\", range_array)"
   ]
  },
  {
   "cell_type": "markdown",
   "metadata": {},
   "source": [
    "## 2. 配列の基本操作"
   ]
  },
  {
   "cell_type": "code",
   "execution_count": 2,
   "metadata": {},
   "outputs": [
    {
     "name": "stdout",
     "output_type": "stream",
     "text": [
      "Original Array: [1 2 3 4 5]\n",
      "First 3 elements: [1 2 3]\n",
      "Modified Array: [10  2  3  4  5]\n"
     ]
    }
   ],
   "source": [
    "# 配列のスライシング\n",
    "array = np.array([1, 2, 3, 4, 5])\n",
    "print(\"Original Array:\", array)\n",
    "print(\"First 3 elements:\", array[:3])\n",
    "\n",
    "# 配列の要素の変更\n",
    "array[0] = 10\n",
    "print(\"Modified Array:\", array)"
   ]
  },
  {
   "cell_type": "markdown",
   "metadata": {},
   "source": [
    "## 3. 配列の形状変更"
   ]
  },
  {
   "cell_type": "code",
   "execution_count": 3,
   "metadata": {},
   "outputs": [
    {
     "name": "stdout",
     "output_type": "stream",
     "text": [
      "Original Array: [1 2 3 4 5 6 7 8 9]\n",
      "Reshaped Array (3x3):\n",
      " [[1 2 3]\n",
      " [4 5 6]\n",
      " [7 8 9]]\n"
     ]
    }
   ],
   "source": [
    "# 配列の形状変更\n",
    "array = np.arange(1, 10)\n",
    "reshaped_array = array.reshape(3, 3)\n",
    "print(\"Original Array:\", array)\n",
    "print(\"Reshaped Array (3x3):\\n\", reshaped_array)"
   ]
  },
  {
   "cell_type": "markdown",
   "metadata": {},
   "source": [
    "## 4. 数学的計算"
   ]
  },
  {
   "cell_type": "code",
   "execution_count": 4,
   "metadata": {},
   "outputs": [
    {
     "name": "stdout",
     "output_type": "stream",
     "text": [
      "Array: [1 2 3 4 5]\n",
      "Mean: 3.0\n",
      "Sum: 15\n",
      "Max: 5\n",
      "Min: 1\n"
     ]
    }
   ],
   "source": [
    "# 配列の平均、和、最大値・最小値\n",
    "array = np.array([1, 2, 3, 4, 5])\n",
    "print(\"Array:\", array)\n",
    "print(\"Mean:\", np.mean(array))\n",
    "print(\"Sum:\", np.sum(array))\n",
    "print(\"Max:\", np.max(array))\n",
    "print(\"Min:\", np.min(array))"
   ]
  },
  {
   "cell_type": "markdown",
   "metadata": {},
   "source": [
    "## 5. 行列演算"
   ]
  },
  {
   "cell_type": "code",
   "execution_count": 5,
   "metadata": {},
   "outputs": [
    {
     "name": "stdout",
     "output_type": "stream",
     "text": [
      "Matrix 1:\n",
      " [[1 2]\n",
      " [3 4]]\n",
      "Matrix 2:\n",
      " [[5 6]\n",
      " [7 8]]\n",
      "Matrix Product:\n",
      " [[19 22]\n",
      " [43 50]]\n",
      "Inverse of Matrix 1:\n",
      " [[-2.   1. ]\n",
      " [ 1.5 -0.5]]\n"
     ]
    }
   ],
   "source": [
    "# 行列の作成\n",
    "matrix1 = np.array([[1, 2], [3, 4]])\n",
    "matrix2 = np.array([[5, 6], [7, 8]])\n",
    "\n",
    "# 行列の積\n",
    "product = np.dot(matrix1, matrix2)\n",
    "\n",
    "# 行列の逆行列\n",
    "inverse = np.linalg.inv(matrix1)\n",
    "\n",
    "print(\"Matrix 1:\\n\", matrix1)\n",
    "print(\"Matrix 2:\\n\", matrix2)\n",
    "print(\"Matrix Product:\\n\", product)\n",
    "print(\"Inverse of Matrix 1:\\n\", inverse)"
   ]
  }
 ],
 "metadata": {
  "kernelspec": {
   "display_name": "Python 3",
   "language": "python",
   "name": "python3"
  },
  "language_info": {
   "codemirror_mode": {
    "name": "ipython",
    "version": 3
   },
   "file_extension": ".py",
   "mimetype": "text/x-python",
   "name": "python",
   "nbconvert_exporter": "python",
   "pygments_lexer": "ipython3",
   "version": "3.12.4"
  }
 },
 "nbformat": 4,
 "nbformat_minor": 4
}
