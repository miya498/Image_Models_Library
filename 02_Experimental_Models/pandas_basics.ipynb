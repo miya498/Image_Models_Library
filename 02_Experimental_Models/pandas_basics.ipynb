{
 "cells": [
  {
   "cell_type": "markdown",
   "metadata": {},
   "source": [
    "# Pandas Basics\n",
    "このノートブックでは、Pandasの基本操作について説明します。"
   ]
  },
  {
   "cell_type": "markdown",
   "metadata": {},
   "source": [
    "## 1. データフレームの作成"
   ]
  },
  {
   "cell_type": "code",
   "execution_count": 1,
   "metadata": {},
   "outputs": [
    {
     "data": {
      "text/html": [
       "<div>\n",
       "<style scoped>\n",
       "    .dataframe tbody tr th:only-of-type {\n",
       "        vertical-align: middle;\n",
       "    }\n",
       "\n",
       "    .dataframe tbody tr th {\n",
       "        vertical-align: top;\n",
       "    }\n",
       "\n",
       "    .dataframe thead th {\n",
       "        text-align: right;\n",
       "    }\n",
       "</style>\n",
       "<table border=\"1\" class=\"dataframe\">\n",
       "  <thead>\n",
       "    <tr style=\"text-align: right;\">\n",
       "      <th></th>\n",
       "      <th>Name</th>\n",
       "      <th>Age</th>\n",
       "      <th>City</th>\n",
       "    </tr>\n",
       "  </thead>\n",
       "  <tbody>\n",
       "    <tr>\n",
       "      <th>0</th>\n",
       "      <td>Alice</td>\n",
       "      <td>24</td>\n",
       "      <td>New York</td>\n",
       "    </tr>\n",
       "    <tr>\n",
       "      <th>1</th>\n",
       "      <td>Bob</td>\n",
       "      <td>27</td>\n",
       "      <td>Los Angeles</td>\n",
       "    </tr>\n",
       "    <tr>\n",
       "      <th>2</th>\n",
       "      <td>Charlie</td>\n",
       "      <td>22</td>\n",
       "      <td>Chicago</td>\n",
       "    </tr>\n",
       "    <tr>\n",
       "      <th>3</th>\n",
       "      <td>David</td>\n",
       "      <td>32</td>\n",
       "      <td>Houston</td>\n",
       "    </tr>\n",
       "  </tbody>\n",
       "</table>\n",
       "</div>"
      ],
      "text/plain": [
       "      Name  Age         City\n",
       "0    Alice   24     New York\n",
       "1      Bob   27  Los Angeles\n",
       "2  Charlie   22      Chicago\n",
       "3    David   32      Houston"
      ]
     },
     "execution_count": 1,
     "metadata": {},
     "output_type": "execute_result"
    }
   ],
   "source": [
    "import pandas as pd\n",
    "\n",
    "# データフレームの作成\n",
    "data = {\n",
    "    'Name': ['Alice', 'Bob', 'Charlie', 'David'],\n",
    "    'Age': [24, 27, 22, 32],\n",
    "    'City': ['New York', 'Los Angeles', 'Chicago', 'Houston']\n",
    "}\n",
    "df = pd.DataFrame(data)\n",
    "df"
   ]
  },
  {
   "cell_type": "markdown",
   "metadata": {},
   "source": [
    "## 2. CSVファイルからのデータ読み込み"
   ]
  },
  {
   "cell_type": "code",
   "execution_count": 2,
   "metadata": {},
   "outputs": [],
   "source": [
    "# CSVファイルの読み込み (例: 'data.csv')\n",
    "# df = pd.read_csv('data.csv')\n",
    "# display(df)\n",
    "\n",
    "# ※ここではデータがないため、このセルはサンプルとして記述しています。"
   ]
  },
  {
   "cell_type": "markdown",
   "metadata": {},
   "source": [
    "## 3. データの選択とフィルタリング"
   ]
  },
  {
   "cell_type": "code",
   "execution_count": 3,
   "metadata": {},
   "outputs": [
    {
     "name": "stdout",
     "output_type": "stream",
     "text": [
      "Names:\n",
      " 0      Alice\n",
      "1        Bob\n",
      "2    Charlie\n",
      "3      David\n",
      "Name: Name, dtype: object\n",
      "Filtered by Age > 25:\n",
      "     Name  Age         City\n",
      "1    Bob   27  Los Angeles\n",
      "3  David   32      Houston\n"
     ]
    }
   ],
   "source": [
    "# 列の選択\n",
    "names = df['Name']\n",
    "print(\"Names:\\n\", names)\n",
    "\n",
    "# 行のフィルタリング\n",
    "age_filter = df[df['Age'] > 25]\n",
    "print(\"Filtered by Age > 25:\\n\", age_filter)"
   ]
  },
  {
   "cell_type": "markdown",
   "metadata": {},
   "source": [
    "## 4. 欠損値の処理"
   ]
  },
  {
   "cell_type": "code",
   "execution_count": 4,
   "metadata": {},
   "outputs": [
    {
     "name": "stdout",
     "output_type": "stream",
     "text": [
      "DataFrame with NaN:\n",
      "     Name   Age         City\n",
      "0  Alice  24.0     New York\n",
      "1    Bob   NaN  Los Angeles\n",
      "2   None  22.0      Chicago\n",
      "3  David  32.0         None\n",
      "DataFrame with NaN dropped:\n",
      "     Name   Age      City\n",
      "0  Alice  24.0  New York\n",
      "DataFrame with NaN filled:\n",
      "       Name      Age         City\n",
      "0    Alice     24.0     New York\n",
      "1      Bob  Unknown  Los Angeles\n",
      "2  Unknown     22.0      Chicago\n",
      "3    David     32.0      Unknown\n"
     ]
    }
   ],
   "source": [
    "# 欠損値を含むデータフレームの作成\n",
    "data_with_nan = {\n",
    "    'Name': ['Alice', 'Bob', None, 'David'],\n",
    "    'Age': [24, None, 22, 32],\n",
    "    'City': ['New York', 'Los Angeles', 'Chicago', None]\n",
    "}\n",
    "df_nan = pd.DataFrame(data_with_nan)\n",
    "print(\"DataFrame with NaN:\\n\", df_nan)\n",
    "\n",
    "# 欠損値の削除\n",
    "df_dropped = df_nan.dropna()\n",
    "print(\"DataFrame with NaN dropped:\\n\", df_dropped)\n",
    "\n",
    "# 欠損値の補完\n",
    "df_filled = df_nan.fillna('Unknown')\n",
    "print(\"DataFrame with NaN filled:\\n\", df_filled)"
   ]
  },
  {
   "cell_type": "markdown",
   "metadata": {},
   "source": [
    "## 5. データの集計"
   ]
  },
  {
   "cell_type": "code",
   "execution_count": 5,
   "metadata": {},
   "outputs": [
    {
     "name": "stdout",
     "output_type": "stream",
     "text": [
      "Average Age: 26.25\n",
      "Age Summary:\n",
      " count     4.000000\n",
      "mean     26.250000\n",
      "std       4.349329\n",
      "min      22.000000\n",
      "25%      23.500000\n",
      "50%      25.500000\n",
      "75%      28.250000\n",
      "max      32.000000\n",
      "Name: Age, dtype: float64\n"
     ]
    }
   ],
   "source": [
    "# データの集計\n",
    "average_age = df['Age'].mean()\n",
    "age_summary = df['Age'].describe()\n",
    "\n",
    "print(\"Average Age:\", average_age)\n",
    "print(\"Age Summary:\\n\", age_summary)"
   ]
  }
 ],
 "metadata": {
  "kernelspec": {
   "display_name": "Python 3",
   "language": "python",
   "name": "python3"
  },
  "language_info": {
   "codemirror_mode": {
    "name": "ipython",
    "version": 3
   },
   "file_extension": ".py",
   "mimetype": "text/x-python",
   "name": "python",
   "nbconvert_exporter": "python",
   "pygments_lexer": "ipython3",
   "version": "3.12.4"
  }
 },
 "nbformat": 4,
 "nbformat_minor": 4
}
